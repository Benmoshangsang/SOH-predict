{
 "cells": [
  {
   "cell_type": "code",
   "execution_count": null,
   "id": "d6ae098c",
   "metadata": {},
   "outputs": [],
   "source": [
    "# Data\n",
    "pth = 'data/NASA'\n",
    "seq_len_lstm = 5  # time steps or history window size\n",
    "seq_len_cnn = 5\n",
    "hop = 1  # overlap between steps\n",
    "k = 3  # kfold cross validation\n",
    "random = 1\n",
    "sample = 10\n",
    "\n",
    "lr = 0.001  # default Adam optim\n",
    "batch_size = 50\n",
    "epochs = 100\n",
    "\n",
    "test_data = '_B07'  # change based on which test data is used in the current experiment\n",
    "save_dir = 'saved/fusion/new_prep'\n",
    "# model_dir = \"VIT_separated_input_CNN_new_prep_F_\" + str(seq_len_cnn) + test_data\n",
    "model_dir = \"SEP_CNN_CNN+LSTM_\" + str(seq_len_cnn) + test_data\n",
    "# model_dir = \"VIT_separated_input_NEWPREP_\" + str(seq_len_cnn) + test_data\n"
   ]
  }
 ],
 "metadata": {},
 "nbformat": 4,
 "nbformat_minor": 5
}
